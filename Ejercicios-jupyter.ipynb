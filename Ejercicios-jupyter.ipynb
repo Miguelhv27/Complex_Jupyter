{
 "cells": [
  {
   "cell_type": "markdown",
   "metadata": {},
   "source": [
    "### Ejercicios vectores complejos y matrices \n",
    "\n",
    "### Ejercicio 1: Suma de dos numeros complejos\n",
    "Given two complex vectors\n",
    "$ v1 = \\begin{bmatrix} 1 + 2i \\\\ 3 - i \\end{bmatrix} $\n",
    "and\n",
    "$ v2 = \\begin{bmatrix} 2 - i \\\\ 4 + 2i \\end{bmatrix} $,\n",
    "find their sum."
   ]
  },
  {
   "cell_type": "code",
   "execution_count": 1,
   "metadata": {},
   "outputs": [
    {
     "name": "stdout",
     "output_type": "stream",
     "text": [
      "La suma de los dos vectores dados es: \n",
      "[[3.+1.j]\n",
      " [7.+1.j]]\n"
     ]
    }
   ],
   "source": [
    "import numpy as np\n",
    "\n",
    "# Defino los dos vectores de numeros complejos\n",
    "v1 = np.array([[1+2j], [3-1j]])\n",
    "v2 = np.array([[2-1j], [4+2j]])\n",
    "\n",
    "# Realizo la suma entre los dos vectores\n",
    "sum = v1+v2\n",
    "\n",
    "print(f\"La suma de los dos vectores dados es: \\n{sum}\")"
   ]
  },
  {
   "cell_type": "markdown",
   "metadata": {},
   "source": [
    "### Ejercicio 2: Negacion de un numero complejo \n",
    "Dado un numero complejo\n",
    "$ v = \\begin{bmatrix} 2 + 3i \\\\ 1 - 2i \\end{bmatrix} $,\n",
    "encuentre su negación."
   ]
  },
  {
   "cell_type": "code",
   "execution_count": 2,
   "metadata": {},
   "outputs": [
    {
     "name": "stdout",
     "output_type": "stream",
     "text": [
      "La negacion del vector complejo es: \n",
      "[[-2.-3.j]\n",
      " [-1.+2.j]]\n"
     ]
    }
   ],
   "source": [
    "import numpy as np\n",
    "\n",
    "# Defino el vector correspondiente\n",
    "v = np.array([[2+3j], [1-2j]])\n",
    "\n",
    "# Obtengo el inverso de un vector complejo\n",
    "neg = -v\n",
    "\n",
    "print(f\"La negacion del vector complejo es: \\n{neg}\")\n",
    "\n"
   ]
  },
  {
   "cell_type": "markdown",
   "metadata": {},
   "source": [
    "### Ejercicio 3: Multiplicacion de un vector complejo por un escalar\n",
    "Multiplique el vector complejo\n",
    "$ v = \\begin{bmatrix} 1 - i \\\\ 2 + 2i \\end{bmatrix} $\n",
    "por el escalar$$ 3 + i $$.\n"
   ]
  },
  {
   "cell_type": "code",
   "execution_count": 3,
   "metadata": {},
   "outputs": [
    {
     "name": "stdout",
     "output_type": "stream",
     "text": [
      "La multiplicacion entre el vector complejo y el escalar es: \n",
      "[[4.-2.j]\n",
      " [4.+8.j]]\n"
     ]
    }
   ],
   "source": [
    "import numpy as np\n",
    "\n",
    "# Defino tanto el vector como el escalar\n",
    "v = np.array([[1-1j], [2+2j]])\n",
    "scalar = 3+1j\n",
    "\n",
    "# Luego realizo la multilpicacion entre el vector y el escalar\n",
    "mult = np.dot(v, scalar)\n",
    "\n",
    "print(f\"La multiplicacion entre el vector complejo y el escalar es: \\n{mult}\")"
   ]
  },
  {
   "cell_type": "markdown",
   "metadata": {},
   "source": [
    "### Ejercicio 4: Transpuesta de un vector complejo\n",
    "Encuentre la transpuesta del vector complejo\n",
    "$ v = \\begin{bmatrix} 2 - i \\\\ 3 + 4i \\end{bmatrix} $."
   ]
  },
  {
   "cell_type": "code",
   "execution_count": 4,
   "metadata": {},
   "outputs": [
    {
     "name": "stdout",
     "output_type": "stream",
     "text": [
      "La transpuesta del vector dado es: \n",
      "[[2.-1.j 3.+4.j]]\n"
     ]
    }
   ],
   "source": [
    "import numpy as np\n",
    "\n",
    "# Defino el vector usando numpy\n",
    "v = np.array([[2-1j], [3+4j]])\n",
    "\n",
    "# Obtengo la transpuesta del vector\n",
    "transpose = v.T\n",
    "\n",
    "print(f\"La transpuesta del vector dado es: \\n{transpose}\")"
   ]
  },
  {
   "cell_type": "markdown",
   "metadata": {},
   "source": [
    "### Ejercicio 5: Conjugado de un vector complejo\n",
    "Calcule el conjugado del vector complejo\n",
    "$ v = \\begin{bmatrix} 1 + i \\\\ 2 - 3i \\end{bmatrix} $."
   ]
  },
  {
   "cell_type": "code",
   "execution_count": null,
   "metadata": {},
   "outputs": [],
   "source": [
    "import numpy as np\n",
    "\n",
    "# Defino el vector\n",
    "v = np.array([[1+1j], [2-3j]])\n",
    "\n",
    "# Obtengo el conjugado de un vector complejo\n",
    "conjugate = np.conjugate(v)\n",
    "\n",
    "print(f\"El conjugado del vector complejo indicado es: \\n{conjugate}\")"
   ]
  },
  {
   "cell_type": "markdown",
   "metadata": {},
   "source": [
    "### Ejercicio 6: Adjunta (Conjugate Transpuesta) de un vector complejo \n",
    "Encuentre la adjunta (o conjugado transpuesta) de un vector complejo \n",
    "$ v = \\begin{bmatrix} 1 - 2i \\\\ 3 + i \\end{bmatrix} $."
   ]
  },
  {
   "cell_type": "code",
   "execution_count": null,
   "metadata": {},
   "outputs": [],
   "source": [
    "import numpy as np\n",
    "\n",
    "# Defino el vector\n",
    "v = np.array([[1-2j], [3+1j]])\n",
    "\n",
    "# Realizo la operacion para obtener la adjunta del vector complejo\n",
    "adj = v.T.conjugate()\n",
    "\n",
    "print(f\"La adjunta del vector complejo es: \\n{adj}\")"
   ]
  },
  {
   "cell_type": "markdown",
   "metadata": {},
   "source": [
    "## Operaciones con matrices cuadradas complejas\n",
    "\n",
    "### Ejercicio 7: Suma de dos matrices complejas \n",
    "Dado dos matrices complejas\n",
    "$ m1 = \\begin{bmatrix} 1 + i & 2 - i \\\\ 3 + 2i & 4 \\end{bmatrix} $\n",
    "y \n",
    "$ m2 = \\begin{bmatrix} 2 - 3i & 1 \\\\ i & 2 + 2i \\end{bmatrix} $,\n",
    "calcule la suma."
   ]
  },
  {
   "cell_type": "code",
   "execution_count": null,
   "metadata": {},
   "outputs": [],
   "source": [
    "import numpy as np\n",
    "\n",
    "# Defino las dos matrices\n",
    "\n",
    "m1 = np.array([[1+1j, 2-1j],\n",
    "               [3+2j, 4]])\n",
    "\n",
    "m2 = np.array([[2-3j, 1],\n",
    "               [1j, 2+2j]])\n",
    "\n",
    "# Realizo la suma entre las dos matrices\n",
    "\n",
    "sum = m1+m2\n",
    "\n",
    "print(f\"La suma entre las dos matrices es: \\n{sum}\")"
   ]
  },
  {
   "cell_type": "markdown",
   "metadata": {},
   "source": [
    "### Ejercicio 8: Negacion de una matriz compleja\n",
    "Encuentre la negacion de la matriz compleja. \n",
    "$ m = \\begin{bmatrix} 2 + i & 3 \\\\ 1 - i & 2 + 2i \\end{bmatrix} $."
   ]
  },
  {
   "cell_type": "code",
   "execution_count": 5,
   "metadata": {},
   "outputs": [
    {
     "name": "stdout",
     "output_type": "stream",
     "text": [
      "La negacion de una matriz compleja es: \n",
      "[[-2.-1.j -3.-0.j]\n",
      " [-1.+1.j -2.-2.j]]\n"
     ]
    }
   ],
   "source": [
    "import numpy as np\n",
    "\n",
    "# Defino la matriz\n",
    "m = np.array([[2+1j, 3],\n",
    "              [1-1j, 2+2j]])\n",
    "\n",
    "# Obtengo la negacion de una matriz compleja\n",
    "neg = -m\n",
    "\n",
    "print(f\"La negacion de una matriz compleja es: \\n{neg}\")"
   ]
  },
  {
   "cell_type": "markdown",
   "metadata": {},
   "source": [
    "### Ejercicio 9: Multiplicacion de una matriz compleja por un escalar\n",
    "Multiplique la matriz compleja\n",
    "$ m = \\begin{bmatrix} 1 - i & 2 \\\\ 3 + i & 4 - 2i \\end{bmatrix} $\n",
    "por un escalar complejo $$ 2 + 3i $$."
   ]
  },
  {
   "cell_type": "code",
   "execution_count": 7,
   "metadata": {},
   "outputs": [
    {
     "name": "stdout",
     "output_type": "stream",
     "text": [
      "La multiplicacion entre la matriz y el escalar es: \n",
      "[[ 5. +1.j  4. +6.j]\n",
      " [ 3.+11.j 14. +8.j]]\n"
     ]
    }
   ],
   "source": [
    "import numpy as np\n",
    "\n",
    "# Defino la matriz y el escalar\n",
    "m = np.array([[1-1j, 2],\n",
    "              [3+1j, 4-2j]])\n",
    "\n",
    "scalar = 2+3j\n",
    "\n",
    "# Realizo la multiplicacion entre la matriz y el escalar\n",
    "mult = np.dot(m, scalar)\n",
    "\n",
    "print(f\"La multiplicacion entre la matriz y el escalar es: \\n{mult}\")"
   ]
  },
  {
   "cell_type": "markdown",
   "metadata": {},
   "source": [
    "### Ejercicio 10: Conjugado de una matriz compleja\n",
    "Calcule el conjugado de la matriz compleja\n",
    "$ m = \\begin{bmatrix} 1 + i & 2 \\\\ 3 - i & 4 + 2i \\end{bmatrix} $.\n"
   ]
  },
  {
   "cell_type": "code",
   "execution_count": 6,
   "metadata": {},
   "outputs": [
    {
     "name": "stdout",
     "output_type": "stream",
     "text": [
      "El conjugado de la matriz es: \n",
      "[[1.-1.j 2.-0.j]\n",
      " [3.+1.j 4.-2.j]]\n"
     ]
    }
   ],
   "source": [
    "import numpy as np\n",
    "\n",
    "# Defino la matriz\n",
    "m = np.array([[1+1j, 2],\n",
    "              [3-1j, 4+2j]])\n",
    "\n",
    "# Obtengo el conjugado de la matriz\n",
    "conjugate = np.conjugate(m)\n",
    "\n",
    "print(f\"El conjugado de la matriz es: \\n{conjugate}\")"
   ]
  },
  {
   "cell_type": "markdown",
   "metadata": {},
   "source": [
    "### Ejercicio 11: Transpuesta de una matriz compleja\n",
    "Encuentre la transpuesta de la matriz compleja\n",
    "$ m = \\begin{bmatrix} 1 - i & 2 + 2i \\\\ 3 & 4 - i \\end{bmatrix} $."
   ]
  },
  {
   "cell_type": "code",
   "execution_count": 8,
   "metadata": {},
   "outputs": [
    {
     "name": "stdout",
     "output_type": "stream",
     "text": [
      "La transpuesta de la matriz es: \n",
      "[[1.-1.j 3.+0.j]\n",
      " [2.+2.j 4.-1.j]]\n"
     ]
    }
   ],
   "source": [
    "import numpy as np\n",
    "\n",
    "# Defino la matriz\n",
    "m = np.array([[1-1j, 2+2j],\n",
    "              [3, 4-1j]])\n",
    "\n",
    "# Obtengo la transpuesta de la matriz\n",
    "trans = m.T\n",
    "\n",
    "print(f\"La transpuesta de la matriz es: \\n{trans}\")\n"
   ]
  },
  {
   "cell_type": "markdown",
   "metadata": {},
   "source": [
    "### Ejercicio 12: Adjunta (Conjugado Transpuesta) de una matriz compleja \n",
    "Calcule la adjunta (o conjugado transpuesta) de una matriz compleja\n",
    "$ m = \\begin{bmatrix} 1 + 2i & 3 - i \\\\ 4 & 5 + i \\end{bmatrix} $."
   ]
  },
  {
   "cell_type": "code",
   "execution_count": 9,
   "metadata": {},
   "outputs": [
    {
     "name": "stdout",
     "output_type": "stream",
     "text": [
      "La adjunta de la matriz es: \n",
      "[[1.-2.j 4.-0.j]\n",
      " [3.+1.j 5.-1.j]]\n"
     ]
    }
   ],
   "source": [
    "import numpy as np\n",
    "\n",
    "# Defino la matriz\n",
    "m = np.array([[1+2j, 3-1j],\n",
    "              [4, 5+1j]])\n",
    "\n",
    "# Obtengo la adjunta de la matriz\n",
    "adj = m.T.conjugate()\n",
    "\n",
    "print(f\"La adjunta de la matriz es: \\n{adj}\")"
   ]
  },
  {
   "cell_type": "markdown",
   "metadata": {},
   "source": [
    "### Ejercicio 13: Revise las dimensiones de la matriz \n",
    "Determine las dimensiones de la matriz compleja \n",
    "$ m = \\begin{bmatrix} 1 - i & 2 \\\\ 3 + 2i & 4 - i \\end{bmatrix} $."
   ]
  },
  {
   "cell_type": "code",
   "execution_count": 10,
   "metadata": {},
   "outputs": [
    {
     "name": "stdout",
     "output_type": "stream",
     "text": [
      "Las dimensiones de la matriz (filas, columnas) son: \n",
      "(2, 2)\n"
     ]
    }
   ],
   "source": [
    "import numpy as np\n",
    "\n",
    "# Defino la matriz\n",
    "m = np.array([[1-1j, 2],\n",
    "              [3+2j, 4-1j]])\n",
    "\n",
    "# Obtengo las dimensiones de la matriz\n",
    "dim = np.shape(m)\n",
    "\n",
    "print(f\"Las dimensiones de la matriz (filas, columnas) son: \\n{dim}\")"
   ]
  },
  {
   "cell_type": "markdown",
   "metadata": {},
   "source": [
    "## Multiplicacion de matrices y vectores \n",
    "\n",
    "### Ejercicio 14: Multiplique una matriz cuadrada compleja por un vector complejo \n",
    "Multiplique por la matriz cuadrada compleja \n",
    "$ m = \\begin{bmatrix} 1 + i & 2 - i \\\\ 3 & 4 + i \\end{bmatrix} $\n",
    "por el vector complejo \n",
    "$ v = \\begin{bmatrix} 2 - i \\\\ 1 + 3i \\end{bmatrix} $."
   ]
  },
  {
   "cell_type": "code",
   "execution_count": null,
   "metadata": {},
   "outputs": [],
   "source": [
    "import numpy as np\n",
    "\n",
    "# Defino la matriz y el vector\n",
    "m = np.array([[1+1j, 2-1j],\n",
    "              [3, 4+1j]])\n",
    "\n",
    "v = np.array([[2-1j],\n",
    "              [1+3j]])\n",
    "\n",
    "# Realizo la multiplicacion entre la matriz y el vector\n",
    "mult = np.dot(m, v)\n",
    "\n",
    "print(f\"La multiplicacion entre la matriz y el vector es: \\n{mult}\")"
   ]
  }
 ],
 "metadata": {
  "kernelspec": {
   "display_name": ".venv",
   "language": "python",
   "name": "python3"
  },
  "language_info": {
   "codemirror_mode": {
    "name": "ipython",
    "version": 3
   },
   "file_extension": ".py",
   "mimetype": "text/x-python",
   "name": "python",
   "nbconvert_exporter": "python",
   "pygments_lexer": "ipython3",
   "version": "3.13.1"
  }
 },
 "nbformat": 4,
 "nbformat_minor": 2
}
